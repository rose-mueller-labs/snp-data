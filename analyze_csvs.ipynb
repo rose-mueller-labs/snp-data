{
 "cells": [
  {
   "cell_type": "code",
   "execution_count": 1,
   "id": "f616419e",
   "metadata": {},
   "outputs": [],
   "source": [
    "import pandas as pd"
   ]
  },
  {
   "cell_type": "code",
   "execution_count": 3,
   "id": "d6d5e968",
   "metadata": {},
   "outputs": [],
   "source": [
    "df1 = pd.read_csv(\"SNP_CSV_threshold_0.03504.csv\")\n",
    "df2 = pd.read_csv(\"SNP_CSV_threshold_0.003504.csv\")\n",
    "df3 = pd.read_csv(\"SNP_CSV_threshold_0.00035040000000000006.csv\")\n",
    "df4 = pd.read_csv(\"SNP_CSV_threshold_3.504000000000001e-05.csv\")\n",
    "df5 = pd.read_csv(\"SNP_CSV_threshold_3.504000000000001e-06.csv\")\n",
    "df6 = pd.read_csv(\"SNP_CSV_threshold_3.504000000000001e-07.csv\")\n"
   ]
  },
  {
   "cell_type": "code",
   "execution_count": 5,
   "id": "31395c40",
   "metadata": {},
   "outputs": [],
   "source": [
    "df7 = pd.read_csv(\"SNP_CSV_threshold_3.5040000000000015e-08.csv\")\n",
    "df8 = pd.read_csv(\"SNP_CSV_threshold_3.5040000000000015e-09.csv\")\n",
    "df9 = pd.read_csv(\"SNP_CSV_threshold_3.5040000000000015e-10.csv\")\n",
    "df10 = pd.read_csv(\"SNP_CSV_threshold_3.5040000000000015e-11.csv\")"
   ]
  },
  {
   "cell_type": "code",
   "execution_count": 6,
   "id": "f4ec4848",
   "metadata": {},
   "outputs": [],
   "source": [
    "df11 = pd.read_csv(\"SNP_CSV_threshold_3.5040000000000016e-12.csv\")\n",
    "df15 = pd.read_csv(\"SNP_CSV_threshold_3.5040000000000023e-16.csv\")\n",
    "df16 = pd.read_csv(\"SNP_CSV_threshold_3.5040000000000023e-17.csv\")\n",
    "df17 = pd.read_csv(\"SNP_CSV_threshold_3.5040000000000027e-19.csv\")\n",
    "df18 = pd.read_csv(\"SNP_CSV_threshold_3.5040000000000027e-20.csv\")"
   ]
  },
  {
   "cell_type": "markdown",
   "id": "0c909d71",
   "metadata": {},
   "source": [
    "df1"
   ]
  },
  {
   "cell_type": "code",
   "execution_count": 9,
   "id": "2bcc515b",
   "metadata": {},
   "outputs": [
    {
     "data": {
      "text/plain": [
       "0.3147891514959067"
      ]
     },
     "execution_count": 9,
     "metadata": {},
     "output_type": "execute_result"
    }
   ],
   "source": [
    "sum(df1['Evolving'] == False)/sum(df1['Evolving'] != 2)"
   ]
  },
  {
   "cell_type": "code",
   "execution_count": 10,
   "id": "9a644585",
   "metadata": {},
   "outputs": [
    {
     "data": {
      "text/plain": [
       "0.6852108485040933"
      ]
     },
     "execution_count": 10,
     "metadata": {},
     "output_type": "execute_result"
    }
   ],
   "source": [
    "sum(df1['Evolving'] == True)/sum(df1['Evolving'] != 9)"
   ]
  }
 ],
 "metadata": {
  "kernelspec": {
   "display_name": ".venv",
   "language": "python",
   "name": "python3"
  },
  "language_info": {
   "codemirror_mode": {
    "name": "ipython",
    "version": 3
   },
   "file_extension": ".py",
   "mimetype": "text/x-python",
   "name": "python",
   "nbconvert_exporter": "python",
   "pygments_lexer": "ipython3",
   "version": "3.12.3"
  }
 },
 "nbformat": 4,
 "nbformat_minor": 5
}
