{
 "cells": [
  {
   "cell_type": "code",
   "execution_count": 3,
   "metadata": {},
   "outputs": [],
   "source": [
    "import csv\n",
    "import pandas as pd"
   ]
  },
  {
   "cell_type": "code",
   "execution_count": 4,
   "metadata": {},
   "outputs": [
    {
     "data": {
      "text/html": [
       "<div>\n",
       "<style scoped>\n",
       "    .dataframe tbody tr th:only-of-type {\n",
       "        vertical-align: middle;\n",
       "    }\n",
       "\n",
       "    .dataframe tbody tr th {\n",
       "        vertical-align: top;\n",
       "    }\n",
       "\n",
       "    .dataframe thead th {\n",
       "        text-align: right;\n",
       "    }\n",
       "</style>\n",
       "<table border=\"1\" class=\"dataframe\">\n",
       "  <thead>\n",
       "    <tr style=\"text-align: right;\">\n",
       "      <th></th>\n",
       "      <th>Chr</th>\n",
       "      <th>Pos</th>\n",
       "      <th>Sel</th>\n",
       "      <th>Pop</th>\n",
       "      <th>Evolving</th>\n",
       "      <th>Freq1</th>\n",
       "      <th>Freq2</th>\n",
       "      <th>Freq3</th>\n",
       "      <th>Freq4</th>\n",
       "    </tr>\n",
       "  </thead>\n",
       "  <tbody>\n",
       "    <tr>\n",
       "      <th>0</th>\n",
       "      <td>X</td>\n",
       "      <td>221</td>\n",
       "      <td>1</td>\n",
       "      <td>CACO</td>\n",
       "      <td>False</td>\n",
       "      <td>0.852632</td>\n",
       "      <td>0.927083</td>\n",
       "      <td>0.901639</td>\n",
       "      <td>0.918129</td>\n",
       "    </tr>\n",
       "    <tr>\n",
       "      <th>1</th>\n",
       "      <td>X</td>\n",
       "      <td>221</td>\n",
       "      <td>2</td>\n",
       "      <td>CACO</td>\n",
       "      <td>False</td>\n",
       "      <td>0.853982</td>\n",
       "      <td>0.885106</td>\n",
       "      <td>0.883721</td>\n",
       "      <td>0.965714</td>\n",
       "    </tr>\n",
       "    <tr>\n",
       "      <th>2</th>\n",
       "      <td>X</td>\n",
       "      <td>221</td>\n",
       "      <td>3</td>\n",
       "      <td>CACO</td>\n",
       "      <td>False</td>\n",
       "      <td>0.975248</td>\n",
       "      <td>0.956098</td>\n",
       "      <td>0.903846</td>\n",
       "      <td>0.950495</td>\n",
       "    </tr>\n",
       "    <tr>\n",
       "      <th>3</th>\n",
       "      <td>X</td>\n",
       "      <td>221</td>\n",
       "      <td>4</td>\n",
       "      <td>CACO</td>\n",
       "      <td>False</td>\n",
       "      <td>0.814815</td>\n",
       "      <td>0.854962</td>\n",
       "      <td>0.941176</td>\n",
       "      <td>0.952586</td>\n",
       "    </tr>\n",
       "    <tr>\n",
       "      <th>4</th>\n",
       "      <td>X</td>\n",
       "      <td>221</td>\n",
       "      <td>5</td>\n",
       "      <td>CACO</td>\n",
       "      <td>False</td>\n",
       "      <td>0.873096</td>\n",
       "      <td>0.893939</td>\n",
       "      <td>0.870270</td>\n",
       "      <td>0.950893</td>\n",
       "    </tr>\n",
       "  </tbody>\n",
       "</table>\n",
       "</div>"
      ],
      "text/plain": [
       "  Chr  Pos  Sel   Pop  Evolving     Freq1     Freq2     Freq3     Freq4\n",
       "0   X  221    1  CACO     False  0.852632  0.927083  0.901639  0.918129\n",
       "1   X  221    2  CACO     False  0.853982  0.885106  0.883721  0.965714\n",
       "2   X  221    3  CACO     False  0.975248  0.956098  0.903846  0.950495\n",
       "3   X  221    4  CACO     False  0.814815  0.854962  0.941176  0.952586\n",
       "4   X  221    5  CACO     False  0.873096  0.893939  0.870270  0.950893"
      ]
     },
     "execution_count": 4,
     "metadata": {},
     "output_type": "execute_result"
    }
   ],
   "source": [
    "df = pd.read_csv(\"SNP_CSV.csv\")\n",
    "df.head()"
   ]
  }
 ],
 "metadata": {
  "kernelspec": {
   "display_name": ".venv",
   "language": "python",
   "name": "python3"
  },
  "language_info": {
   "codemirror_mode": {
    "name": "ipython",
    "version": 3
   },
   "file_extension": ".py",
   "mimetype": "text/x-python",
   "name": "python",
   "nbconvert_exporter": "python",
   "pygments_lexer": "ipython3",
   "version": "3.12.5"
  }
 },
 "nbformat": 4,
 "nbformat_minor": 2
}
