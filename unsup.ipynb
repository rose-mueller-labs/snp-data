{
 "cells": [
  {
   "cell_type": "code",
   "execution_count": 1,
   "id": "bdfb8034",
   "metadata": {},
   "outputs": [
    {
     "name": "stderr",
     "output_type": "stream",
     "text": [
      "/home/drosophila-lab/Documents/Genomics Project/snp-data/.venv/lib/python3.12/site-packages/tqdm/auto.py:21: TqdmWarning: IProgress not found. Please update jupyter and ipywidgets. See https://ipywidgets.readthedocs.io/en/stable/user_install.html\n",
      "  from .autonotebook import tqdm as notebook_tqdm\n"
     ]
    }
   ],
   "source": [
    "import pandas as pd\n",
    "import numpy as np\n",
    "from sklearn.decomposition import PCA\n",
    "from sklearn.manifold import TSNE\n",
    "from sklearn.cluster import KMeans\n",
    "from sklearn.preprocessing import StandardScaler\n",
    "import matplotlib.pyplot as plt\n",
    "import seaborn as sns\n",
    "import umap.umap_ as umap"
   ]
  },
  {
   "cell_type": "code",
   "execution_count": 2,
   "id": "2922136e",
   "metadata": {},
   "outputs": [
    {
     "name": "stdout",
     "output_type": "stream",
     "text": [
      "Before loading data.\n",
      "Finished loading data.\n",
      "here1\n"
     ]
    }
   ],
   "source": [
    "# Load data\n",
    "print('Before loading data.')\n",
    "df = pd.read_csv(\"SNP_CSV.csv\")\n",
    "print('Finished loading data.')\n",
    "\n",
    "# Feature engineering - create trajectory features\n",
    "freq_cols = ['Freq1', 'Freq2', 'Freq3', 'Freq4']\n",
    "X = df[freq_cols].values\n",
    "\n",
    "print(\"here1\")"
   ]
  },
  {
   "cell_type": "code",
   "execution_count": 3,
   "id": "e746744a",
   "metadata": {},
   "outputs": [
    {
     "name": "stdout",
     "output_type": "stream",
     "text": [
      "here2\n"
     ]
    }
   ],
   "source": [
    "#  Standardize data\n",
    "scaler = StandardScaler()\n",
    "X_scaled = scaler.fit_transform(X)\n",
    "\n",
    "# Dimensionality Reduction with PCA\n",
    "pca = PCA(n_components=2)\n",
    "X_pca = pca.fit_transform(X_scaled)\n",
    "\n",
    "print(\"here2\")"
   ]
  },
  {
   "cell_type": "code",
   "execution_count": 4,
   "id": "4300cf3a",
   "metadata": {},
   "outputs": [],
   "source": [
    "# # Dimensionality Reduction with t-SNE (alternative) **\n",
    "# # tsne = TSNE(n_components=2, perplexity=2)\n",
    "# # X_tsne = tsne.fit_transform(X_scaled)\n",
    "\n",
    "# reducer = umap.UMAP(random_state=42)\n",
    "# embedding = reducer.fit_transform(X_scaled)\n",
    "# embedding.shape\n",
    "\n",
    "# print(\"here3\")"
   ]
  },
  {
   "cell_type": "code",
   "execution_count": null,
   "id": "32ab575a",
   "metadata": {},
   "outputs": [
    {
     "name": "stdout",
     "output_type": "stream",
     "text": [
      "here4\n"
     ]
    }
   ],
   "source": [
    "# Clustering with K-Means ** (idk if this will be correct)\n",
    "kmeans = KMeans(n_clusters=2, random_state=42)  # Assuming single population (CACO)\n",
    "df['Cluster'] = kmeans.fit_predict(X_scaled)\n",
    "\n",
    "print(\"here4\")"
   ]
  },
  {
   "cell_type": "code",
   "execution_count": null,
   "id": "4f67cb98",
   "metadata": {},
   "outputs": [
    {
     "data": {
      "image/png": "[encoded data removed]",
      "text/plain": [
       "<Figure size 640x480 with 1 Axes>"
      ]
     },
     "metadata": {},
     "output_type": "display_data"
    }
   ],
   "source": [
    "# Visualization\n",
    "# import matplotlib.pyplot as plt\n",
    " \n",
    "# #filter rows of original data\n",
    "# filtered_label0 = df[label == 0]\n",
    "\n",
    "# print(filtered_label0)\n",
    " \n",
    "# #plotting the results\n",
    "# plt.scatter(filtered_label0.iloc[:,0] , filtered_label0.iloc[:,1])\n",
    "# plt.show()\n",
    "\n",
    "#Getting the Centroids\n",
    "centroids = kmeans.cluster_centers_\n",
    "# u_labels = np.unique(df['Cluster'])\n",
    " \n",
    "#plotting the results:\n",
    " \n",
    "# for i in u_labels:\n",
    "#     filtered_label0 = df[label == i]\n",
    "#     plt.scatter(filtered_label0.iloc[:,0] , filtered_label0.iloc[:,1], label=i)\n",
    "# plt.scatter(centroids[:,0] , centroids[:,1] , s = 1, color = 'k')\n",
    "# plt.legend()\n",
    "# plt.show()"
   ]
  },
  {
   "cell_type": "code",
   "execution_count": 14,
   "id": "d0b68bc1",
   "metadata": {},
   "outputs": [
    {
     "name": "stdout",
     "output_type": "stream",
     "text": [
      "  Chr  Pos  Sel   Pop  Evolving     Freq1     Freq2     Freq3     Freq4\n",
      "1   X  221    2  CACO     False  0.853982  0.885106  0.883721  0.965714\n",
      "2   X  221    3  CACO     False  0.975248  0.956098  0.903846  0.950495\n",
      "3   X  221    4  CACO     False  0.814815  0.854962  0.941176  0.952586\n",
      "4   X  221    5  CACO     False  0.873096  0.893939  0.870270  0.950893\n",
      "5   X  221    1   CAO     False  0.878788  0.918605  0.893258  0.950920\n",
      "6   X  221    2   CAO     False  0.848739  0.901709  0.878788  0.964497\n",
      "7   X  221    3   CAO     False  0.947090  0.924779  0.932961  0.961326\n",
      "8   X  221    4   CAO     False  0.884058  0.917808  0.831395  0.932692\n",
      "9   X  221    5   CAO     False  0.922222  0.910377  0.908676  0.890110\n",
      "[5 0 8 5 0 5 0 5 0]\n",
      "                 Chr    Pos  Sel   Pop  Evolving     Freq1     Freq2  \\\n",
      "20                 X    336    1  CACO     False  0.719298  0.707921   \n",
      "30                 X    336    1  NACO     False  0.784232  0.614286   \n",
      "38                 X    336    4  ANCO     False  0.784431  0.664894   \n",
      "308                X    699    4   CAO     False  0.788462  0.705036   \n",
      "310                X    699    1  NACO     False  0.846491  0.690909   \n",
      "...              ...    ...  ...   ...       ...       ...       ...   \n",
      "28531634  CP007120.1  53534    5  NACO     False  0.770701  0.650000   \n",
      "28531637  CP007120.1  53534    3  ANCO     False  0.752252  0.604255   \n",
      "28531638  CP007120.1  53534    4  ANCO     False  0.757937  0.663317   \n",
      "28531639  CP007120.1  53534    5  ANCO     False  0.672414  0.626374   \n",
      "28531744          MT  16701    5  CACO     False  1.000000  0.669492   \n",
      "\n",
      "             Freq3     Freq4  \n",
      "20        0.561538  0.690476  \n",
      "30        0.589744  0.710692  \n",
      "38        0.691176  0.810345  \n",
      "308       0.607527  0.632768  \n",
      "310       0.618421  0.645570  \n",
      "...            ...       ...  \n",
      "28531634  0.606796  0.652632  \n",
      "28531637  0.571429  0.589147  \n",
      "28531638  0.608108  0.562500  \n",
      "28531639  0.589595  0.582418  \n",
      "28531744  0.680000  0.653846  \n",
      "\n",
      "[1713058 rows x 9 columns]\n"
     ]
    }
   ],
   "source": [
    "np.unique(label)\n",
    "print(df[1:10])\n",
    "print(label[1:10])\n",
    "print(df[label == 2])"
   ]
  },
  {
   "cell_type": "code",
   "execution_count": 7,
   "id": "fc8ca5f4",
   "metadata": {},
   "outputs": [
    {
     "name": "stdout",
     "output_type": "stream",
     "text": [
      "here6\n"
     ]
    }
   ],
   "source": [
    "# PCA Plot\n",
    "sns.scatterplot(x=X_pca[:, 0], y=X_pca[:, 1], hue=df['Pop'], ax=axes[0])\n",
    "axes[0].set_title('PCA Projection')\n",
    "\n",
    "print(\"here6\")"
   ]
  },
  {
   "cell_type": "code",
   "execution_count": 8,
   "id": "8921c670",
   "metadata": {},
   "outputs": [],
   "source": [
    "# t-SNE Plot\n",
    "# sns.scatterplot(x=X_tsne[:, 0], y=X_tsne[:, 1], hue=df['Pop'], ax=axes[1])\n",
    "# axes[1].set_title('t-SNE Projection')\n",
    "\n",
    "# UMAP Plot\n",
    "# plt.scatter(\n",
    "#     embedding[:, 0],\n",
    "#     embedding[:, 1],\n",
    "#     # c=[sns.color_palette()[x] for x in X.species.map({\"Adelie\":0, \"Chinstrap\":1, \"Gentoo\":2})])\n",
    "# )\n",
    "# plt.gca().set_aspect('equal', 'datalim')\n",
    "# plt.title('UMAP projection of the dataset', fontsize=24)\n",
    "\n",
    "\n",
    "# plt.savefig(\"clustervis1\")\n",
    "# mapper = umap.UMAP().fit(X)\n",
    "# umap.plot.points(mapper)\n",
    "# umap.plot.points(mapper, labels=fmnist.target, theme='fire')\n",
    "# umap.plot.points(mapper)\n"
   ]
  },
  {
   "cell_type": "code",
   "execution_count": 9,
   "id": "d06118ac",
   "metadata": {},
   "outputs": [
    {
     "name": "stdout",
     "output_type": "stream",
     "text": [
      "here7\n"
     ]
    },
    {
     "ename": "KeyboardInterrupt",
     "evalue": "",
     "output_type": "error",
     "traceback": [
      "\u001b[31m---------------------------------------------------------------------------\u001b[39m",
      "\u001b[31mKeyboardInterrupt\u001b[39m                         Traceback (most recent call last)",
      "\u001b[36mCell\u001b[39m\u001b[36m \u001b[39m\u001b[32mIn[9]\u001b[39m\u001b[32m, line 5\u001b[39m\n\u001b[32m      3\u001b[39m \u001b[38;5;66;03m# Frequency Trajectory Plot (VISUAL)\u001b[39;00m\n\u001b[32m      4\u001b[39m \u001b[38;5;28;01mfor\u001b[39;00m i, row \u001b[38;5;129;01min\u001b[39;00m df.iterrows():\n\u001b[32m----> \u001b[39m\u001b[32m5\u001b[39m     \u001b[43maxes\u001b[49m\u001b[43m[\u001b[49m\u001b[32;43m2\u001b[39;49m\u001b[43m]\u001b[49m\u001b[43m.\u001b[49m\u001b[43mplot\u001b[49m\u001b[43m(\u001b[49m\u001b[43mfreq_cols\u001b[49m\u001b[43m,\u001b[49m\u001b[43m \u001b[49m\u001b[43mrow\u001b[49m\u001b[43m[\u001b[49m\u001b[43mfreq_cols\u001b[49m\u001b[43m]\u001b[49m\u001b[43m,\u001b[49m\u001b[43m \u001b[49m\u001b[43mlabel\u001b[49m\u001b[43m=\u001b[49m\u001b[33;43mf\u001b[39;49m\u001b[33;43m\"\u001b[39;49m\u001b[33;43mSample \u001b[39;49m\u001b[38;5;132;43;01m{\u001b[39;49;00m\u001b[43mi\u001b[49m\u001b[43m+\u001b[49m\u001b[32;43m1\u001b[39;49m\u001b[38;5;132;43;01m}\u001b[39;49;00m\u001b[33;43m\"\u001b[39;49m\u001b[43m)\u001b[49m\n\u001b[32m      6\u001b[39m axes[\u001b[32m2\u001b[39m].set_title(\u001b[33m'\u001b[39m\u001b[33mFrequency Trajectories\u001b[39m\u001b[33m'\u001b[39m)\n\u001b[32m      7\u001b[39m axes[\u001b[32m2\u001b[39m].set_ylabel(\u001b[33m'\u001b[39m\u001b[33mFrequency\u001b[39m\u001b[33m'\u001b[39m)\n",
      "\u001b[36mFile \u001b[39m\u001b[32m~/Documents/Genomics Project/snp-data/.venv/lib/python3.12/site-packages/matplotlib/axes/_axes.py:1777\u001b[39m, in \u001b[36mAxes.plot\u001b[39m\u001b[34m(self, scalex, scaley, data, *args, **kwargs)\u001b[39m\n\u001b[32m   1534\u001b[39m \u001b[38;5;250m\u001b[39m\u001b[33;03m\"\"\"\u001b[39;00m\n\u001b[32m   1535\u001b[39m \u001b[33;03mPlot y versus x as lines and/or markers.\u001b[39;00m\n\u001b[32m   1536\u001b[39m \n\u001b[32m   (...)\u001b[39m\u001b[32m   1774\u001b[39m \u001b[33;03m(``'green'``) or hex strings (``'#008000'``).\u001b[39;00m\n\u001b[32m   1775\u001b[39m \u001b[33;03m\"\"\"\u001b[39;00m\n\u001b[32m   1776\u001b[39m kwargs = cbook.normalize_kwargs(kwargs, mlines.Line2D)\n\u001b[32m-> \u001b[39m\u001b[32m1777\u001b[39m lines = [*\u001b[38;5;28mself\u001b[39m._get_lines(\u001b[38;5;28mself\u001b[39m, *args, data=data, **kwargs)]\n\u001b[32m   1778\u001b[39m \u001b[38;5;28;01mfor\u001b[39;00m line \u001b[38;5;129;01min\u001b[39;00m lines:\n\u001b[32m   1779\u001b[39m     \u001b[38;5;28mself\u001b[39m.add_line(line)\n",
      "\u001b[36mFile \u001b[39m\u001b[32m~/Documents/Genomics Project/snp-data/.venv/lib/python3.12/site-packages/matplotlib/axes/_base.py:297\u001b[39m, in \u001b[36m_process_plot_var_args.__call__\u001b[39m\u001b[34m(self, axes, data, return_kwargs, *args, **kwargs)\u001b[39m\n\u001b[32m    295\u001b[39m     this += args[\u001b[32m0\u001b[39m],\n\u001b[32m    296\u001b[39m     args = args[\u001b[32m1\u001b[39m:]\n\u001b[32m--> \u001b[39m\u001b[32m297\u001b[39m \u001b[38;5;28;01myield from\u001b[39;00m \u001b[38;5;28;43mself\u001b[39;49m\u001b[43m.\u001b[49m\u001b[43m_plot_args\u001b[49m\u001b[43m(\u001b[49m\n\u001b[32m    298\u001b[39m \u001b[43m    \u001b[49m\u001b[43maxes\u001b[49m\u001b[43m,\u001b[49m\u001b[43m \u001b[49m\u001b[43mthis\u001b[49m\u001b[43m,\u001b[49m\u001b[43m \u001b[49m\u001b[43mkwargs\u001b[49m\u001b[43m,\u001b[49m\u001b[43m \u001b[49m\u001b[43mambiguous_fmt_datakey\u001b[49m\u001b[43m=\u001b[49m\u001b[43mambiguous_fmt_datakey\u001b[49m\u001b[43m,\u001b[49m\n\u001b[32m    299\u001b[39m \u001b[43m    \u001b[49m\u001b[43mreturn_kwargs\u001b[49m\u001b[43m=\u001b[49m\u001b[43mreturn_kwargs\u001b[49m\n\u001b[32m    300\u001b[39m \u001b[43m\u001b[49m\u001b[43m)\u001b[49m\n",
      "\u001b[36mFile \u001b[39m\u001b[32m~/Documents/Genomics Project/snp-data/.venv/lib/python3.12/site-packages/matplotlib/axes/_base.py:489\u001b[39m, in \u001b[36m_process_plot_var_args._plot_args\u001b[39m\u001b[34m(self, axes, tup, kwargs, return_kwargs, ambiguous_fmt_datakey)\u001b[39m\n\u001b[32m    486\u001b[39m     x, y = index_of(xy[-\u001b[32m1\u001b[39m])\n\u001b[32m    488\u001b[39m \u001b[38;5;28;01mif\u001b[39;00m axes.xaxis \u001b[38;5;129;01mis\u001b[39;00m \u001b[38;5;129;01mnot\u001b[39;00m \u001b[38;5;28;01mNone\u001b[39;00m:\n\u001b[32m--> \u001b[39m\u001b[32m489\u001b[39m     \u001b[43maxes\u001b[49m\u001b[43m.\u001b[49m\u001b[43mxaxis\u001b[49m\u001b[43m.\u001b[49m\u001b[43mupdate_units\u001b[49m\u001b[43m(\u001b[49m\u001b[43mx\u001b[49m\u001b[43m)\u001b[49m\n\u001b[32m    490\u001b[39m \u001b[38;5;28;01mif\u001b[39;00m axes.yaxis \u001b[38;5;129;01mis\u001b[39;00m \u001b[38;5;129;01mnot\u001b[39;00m \u001b[38;5;28;01mNone\u001b[39;00m:\n\u001b[32m    491\u001b[39m     axes.yaxis.update_units(y)\n",
      "\u001b[36mFile \u001b[39m\u001b[32m~/Documents/Genomics Project/snp-data/.venv/lib/python3.12/site-packages/matplotlib/axis.py:1754\u001b[39m, in \u001b[36mAxis.update_units\u001b[39m\u001b[34m(self, data)\u001b[39m\n\u001b[32m   1752\u001b[39m neednew = \u001b[38;5;28mself\u001b[39m._converter != converter\n\u001b[32m   1753\u001b[39m \u001b[38;5;28mself\u001b[39m._set_converter(converter)\n\u001b[32m-> \u001b[39m\u001b[32m1754\u001b[39m default = \u001b[38;5;28;43mself\u001b[39;49m\u001b[43m.\u001b[49m\u001b[43m_converter\u001b[49m\u001b[43m.\u001b[49m\u001b[43mdefault_units\u001b[49m\u001b[43m(\u001b[49m\u001b[43mdata\u001b[49m\u001b[43m,\u001b[49m\u001b[43m \u001b[49m\u001b[38;5;28;43mself\u001b[39;49m\u001b[43m)\u001b[49m\n\u001b[32m   1755\u001b[39m \u001b[38;5;28;01mif\u001b[39;00m default \u001b[38;5;129;01mis\u001b[39;00m \u001b[38;5;129;01mnot\u001b[39;00m \u001b[38;5;28;01mNone\u001b[39;00m \u001b[38;5;129;01mand\u001b[39;00m \u001b[38;5;28mself\u001b[39m.units \u001b[38;5;129;01mis\u001b[39;00m \u001b[38;5;28;01mNone\u001b[39;00m:\n\u001b[32m   1756\u001b[39m     \u001b[38;5;28mself\u001b[39m.set_units(default)\n",
      "\u001b[36mFile \u001b[39m\u001b[32m~/Documents/Genomics Project/snp-data/.venv/lib/python3.12/site-packages/matplotlib/category.py:108\u001b[39m, in \u001b[36mStrCategoryConverter.default_units\u001b[39m\u001b[34m(data, axis)\u001b[39m\n\u001b[32m    106\u001b[39m     axis.set_units(UnitData(data))\n\u001b[32m    107\u001b[39m \u001b[38;5;28;01melse\u001b[39;00m:\n\u001b[32m--> \u001b[39m\u001b[32m108\u001b[39m     \u001b[43maxis\u001b[49m\u001b[43m.\u001b[49m\u001b[43munits\u001b[49m\u001b[43m.\u001b[49m\u001b[43mupdate\u001b[49m\u001b[43m(\u001b[49m\u001b[43mdata\u001b[49m\u001b[43m)\u001b[49m\n\u001b[32m    109\u001b[39m \u001b[38;5;28;01mreturn\u001b[39;00m axis.units\n",
      "\u001b[36mFile \u001b[39m\u001b[32m~/Documents/Genomics Project/snp-data/.venv/lib/python3.12/site-packages/matplotlib/category.py:217\u001b[39m, in \u001b[36mUnitData.update\u001b[39m\u001b[34m(self, data)\u001b[39m\n\u001b[32m    214\u001b[39m convertible = \u001b[38;5;28;01mTrue\u001b[39;00m\n\u001b[32m    215\u001b[39m \u001b[38;5;28;01mfor\u001b[39;00m val \u001b[38;5;129;01min\u001b[39;00m OrderedDict.fromkeys(data):\n\u001b[32m    216\u001b[39m     \u001b[38;5;66;03m# OrderedDict just iterates over unique values in data.\u001b[39;00m\n\u001b[32m--> \u001b[39m\u001b[32m217\u001b[39m     \u001b[43m_api\u001b[49m\u001b[43m.\u001b[49m\u001b[43mcheck_isinstance\u001b[49m\u001b[43m(\u001b[49m\u001b[43m(\u001b[49m\u001b[38;5;28;43mstr\u001b[39;49m\u001b[43m,\u001b[49m\u001b[43m \u001b[49m\u001b[38;5;28;43mbytes\u001b[39;49m\u001b[43m)\u001b[49m\u001b[43m,\u001b[49m\u001b[43m \u001b[49m\u001b[43mvalue\u001b[49m\u001b[43m=\u001b[49m\u001b[43mval\u001b[49m\u001b[43m)\u001b[49m\n\u001b[32m    218\u001b[39m     \u001b[38;5;28;01mif\u001b[39;00m convertible:\n\u001b[32m    219\u001b[39m         \u001b[38;5;66;03m# this will only be called so long as convertible is True.\u001b[39;00m\n\u001b[32m    220\u001b[39m         convertible = \u001b[38;5;28mself\u001b[39m._str_is_convertible(val)\n",
      "\u001b[36mFile \u001b[39m\u001b[32m~/Documents/Genomics Project/snp-data/.venv/lib/python3.12/site-packages/matplotlib/_api/__init__.py:79\u001b[39m, in \u001b[36mcheck_isinstance\u001b[39m\u001b[34m(types, **kwargs)\u001b[39m\n\u001b[32m     66\u001b[39m \u001b[38;5;250m\u001b[39m\u001b[33;03m\"\"\"\u001b[39;00m\n\u001b[32m     67\u001b[39m \u001b[33;03mFor each *key, value* pair in *kwargs*, check that *value* is an instance\u001b[39;00m\n\u001b[32m     68\u001b[39m \u001b[33;03mof one of *types*; if not, raise an appropriate TypeError.\u001b[39;00m\n\u001b[32m   (...)\u001b[39m\u001b[32m     74\u001b[39m \u001b[33;03m>>> _api.check_isinstance((SomeClass, None), arg=arg)\u001b[39;00m\n\u001b[32m     75\u001b[39m \u001b[33;03m\"\"\"\u001b[39;00m\n\u001b[32m     76\u001b[39m none_type = \u001b[38;5;28mtype\u001b[39m(\u001b[38;5;28;01mNone\u001b[39;00m)\n\u001b[32m     77\u001b[39m types = ((types,) \u001b[38;5;28;01mif\u001b[39;00m \u001b[38;5;28misinstance\u001b[39m(types, \u001b[38;5;28mtype\u001b[39m) \u001b[38;5;28;01melse\u001b[39;00m\n\u001b[32m     78\u001b[39m          (none_type,) \u001b[38;5;28;01mif\u001b[39;00m types \u001b[38;5;129;01mis\u001b[39;00m \u001b[38;5;28;01mNone\u001b[39;00m \u001b[38;5;28;01melse\u001b[39;00m\n\u001b[32m---> \u001b[39m\u001b[32m79\u001b[39m          \u001b[38;5;28;43mtuple\u001b[39;49m\u001b[43m(\u001b[49m\u001b[43mnone_type\u001b[49m\u001b[43m \u001b[49m\u001b[38;5;28;43;01mif\u001b[39;49;00m\u001b[43m \u001b[49m\u001b[43mtp\u001b[49m\u001b[43m \u001b[49m\u001b[38;5;129;43;01mis\u001b[39;49;00m\u001b[43m \u001b[49m\u001b[38;5;28;43;01mNone\u001b[39;49;00m\u001b[43m \u001b[49m\u001b[38;5;28;43;01melse\u001b[39;49;00m\u001b[43m \u001b[49m\u001b[43mtp\u001b[49m\u001b[43m \u001b[49m\u001b[38;5;28;43;01mfor\u001b[39;49;00m\u001b[43m \u001b[49m\u001b[43mtp\u001b[49m\u001b[43m \u001b[49m\u001b[38;5;129;43;01min\u001b[39;49;00m\u001b[43m \u001b[49m\u001b[43mtypes\u001b[49m\u001b[43m)\u001b[49m)\n\u001b[32m     81\u001b[39m \u001b[38;5;28;01mdef\u001b[39;00m\u001b[38;5;250m \u001b[39m\u001b[34mtype_name\u001b[39m(tp):\n\u001b[32m     82\u001b[39m     \u001b[38;5;28;01mreturn\u001b[39;00m (\u001b[33m\"\u001b[39m\u001b[33mNone\u001b[39m\u001b[33m\"\u001b[39m \u001b[38;5;28;01mif\u001b[39;00m tp \u001b[38;5;129;01mis\u001b[39;00m none_type\n\u001b[32m     83\u001b[39m             \u001b[38;5;28;01melse\u001b[39;00m tp.\u001b[34m__qualname__\u001b[39m \u001b[38;5;28;01mif\u001b[39;00m tp.\u001b[34m__module__\u001b[39m == \u001b[33m\"\u001b[39m\u001b[33mbuiltins\u001b[39m\u001b[33m\"\u001b[39m\n\u001b[32m     84\u001b[39m             \u001b[38;5;28;01melse\u001b[39;00m \u001b[33mf\u001b[39m\u001b[33m\"\u001b[39m\u001b[38;5;132;01m{\u001b[39;00mtp.\u001b[34m__module__\u001b[39m\u001b[38;5;132;01m}\u001b[39;00m\u001b[33m.\u001b[39m\u001b[38;5;132;01m{\u001b[39;00mtp.\u001b[34m__qualname__\u001b[39m\u001b[38;5;132;01m}\u001b[39;00m\u001b[33m\"\u001b[39m)\n",
      "\u001b[36mFile \u001b[39m\u001b[32m~/Documents/Genomics Project/snp-data/.venv/lib/python3.12/site-packages/matplotlib/_api/__init__.py:79\u001b[39m, in \u001b[36m<genexpr>\u001b[39m\u001b[34m(.0)\u001b[39m\n\u001b[32m     66\u001b[39m \u001b[38;5;250m\u001b[39m\u001b[33;03m\"\"\"\u001b[39;00m\n\u001b[32m     67\u001b[39m \u001b[33;03mFor each *key, value* pair in *kwargs*, check that *value* is an instance\u001b[39;00m\n\u001b[32m     68\u001b[39m \u001b[33;03mof one of *types*; if not, raise an appropriate TypeError.\u001b[39;00m\n\u001b[32m   (...)\u001b[39m\u001b[32m     74\u001b[39m \u001b[33;03m>>> _api.check_isinstance((SomeClass, None), arg=arg)\u001b[39;00m\n\u001b[32m     75\u001b[39m \u001b[33;03m\"\"\"\u001b[39;00m\n\u001b[32m     76\u001b[39m none_type = \u001b[38;5;28mtype\u001b[39m(\u001b[38;5;28;01mNone\u001b[39;00m)\n\u001b[32m     77\u001b[39m types = ((types,) \u001b[38;5;28;01mif\u001b[39;00m \u001b[38;5;28misinstance\u001b[39m(types, \u001b[38;5;28mtype\u001b[39m) \u001b[38;5;28;01melse\u001b[39;00m\n\u001b[32m     78\u001b[39m          (none_type,) \u001b[38;5;28;01mif\u001b[39;00m types \u001b[38;5;129;01mis\u001b[39;00m \u001b[38;5;28;01mNone\u001b[39;00m \u001b[38;5;28;01melse\u001b[39;00m\n\u001b[32m---> \u001b[39m\u001b[32m79\u001b[39m          \u001b[38;5;28mtuple\u001b[39m(none_type \u001b[38;5;28;01mif\u001b[39;00m tp \u001b[38;5;129;01mis\u001b[39;00m \u001b[38;5;28;01mNone\u001b[39;00m \u001b[38;5;28;01melse\u001b[39;00m tp \u001b[38;5;28;01mfor\u001b[39;00m tp \u001b[38;5;129;01min\u001b[39;00m types))\n\u001b[32m     81\u001b[39m \u001b[38;5;28;01mdef\u001b[39;00m\u001b[38;5;250m \u001b[39m\u001b[34mtype_name\u001b[39m(tp):\n\u001b[32m     82\u001b[39m     \u001b[38;5;28;01mreturn\u001b[39;00m (\u001b[33m\"\u001b[39m\u001b[33mNone\u001b[39m\u001b[33m\"\u001b[39m \u001b[38;5;28;01mif\u001b[39;00m tp \u001b[38;5;129;01mis\u001b[39;00m none_type\n\u001b[32m     83\u001b[39m             \u001b[38;5;28;01melse\u001b[39;00m tp.\u001b[34m__qualname__\u001b[39m \u001b[38;5;28;01mif\u001b[39;00m tp.\u001b[34m__module__\u001b[39m == \u001b[33m\"\u001b[39m\u001b[33mbuiltins\u001b[39m\u001b[33m\"\u001b[39m\n\u001b[32m     84\u001b[39m             \u001b[38;5;28;01melse\u001b[39;00m \u001b[33mf\u001b[39m\u001b[33m\"\u001b[39m\u001b[38;5;132;01m{\u001b[39;00mtp.\u001b[34m__module__\u001b[39m\u001b[38;5;132;01m}\u001b[39;00m\u001b[33m.\u001b[39m\u001b[38;5;132;01m{\u001b[39;00mtp.\u001b[34m__qualname__\u001b[39m\u001b[38;5;132;01m}\u001b[39;00m\u001b[33m\"\u001b[39m)\n",
      "\u001b[31mKeyboardInterrupt\u001b[39m: "
     ]
    }
   ],
   "source": [
    "print(\"here7\")\n",
    "\n",
    "# Frequency Trajectory Plot (VISUAL)\n",
    "for i, row in df.iterrows():\n",
    "    axes[2].plot(freq_cols, row[freq_cols], label=f\"Sample {i+1}\")\n",
    "axes[2].set_title('Frequency Trajectories')\n",
    "axes[2].set_ylabel('Frequency')\n",
    "axes[2].legend()\n",
    "\n",
    "plt.tight_layout()\n",
    "plt.savefig(\"clustervis2\")"
   ]
  },
  {
   "cell_type": "code",
   "execution_count": 10,
   "id": "4a9bc52e",
   "metadata": {},
   "outputs": [],
   "source": [
    "# Prediction function for new data (for inference)\n",
    "def predict_population(new_frequencies):\n",
    "    new_data = scaler.transform([new_frequencies])\n",
    "    cluster = kmeans.predict(new_data)[0]\n",
    "    # In a real multi-population scenario, I would map clusters to populations\n",
    "    # For now, just return cluster ID\n",
    "    return f\"Cluster {cluster}\""
   ]
  },
  {
   "cell_type": "code",
   "execution_count": 13,
   "id": "09dbec57",
   "metadata": {},
   "outputs": [
    {
     "name": "stdout",
     "output_type": "stream",
     "text": [
      "Predicted cluster: Cluster 0\n"
     ]
    }
   ],
   "source": [
    "# Example usage\n",
    "new_sample = [0, 0, 0, 0]\n",
    "print(f\"Predicted cluster: {predict_population(new_sample)}\")"
   ]
  },
  {
   "cell_type": "code",
   "execution_count": null,
   "id": "d9de9dbc",
   "metadata": {},
   "outputs": [],
   "source": []
  }
 ],
 "metadata": {
  "kernelspec": {
   "display_name": ".venv",
   "language": "python",
   "name": "python3"
  },
  "language_info": {
   "codemirror_mode": {
    "name": "ipython",
    "version": 3
   },
   "file_extension": ".py",
   "mimetype": "text/x-python",
   "name": "python",
   "nbconvert_exporter": "python",
   "pygments_lexer": "ipython3",
   "version": "3.12.3"
  }
 },
 "nbformat": 4,
 "nbformat_minor": 5
}
