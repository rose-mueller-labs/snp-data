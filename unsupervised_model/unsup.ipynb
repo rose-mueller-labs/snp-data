{
 "cells": [
  {
   "cell_type": "code",
   "execution_count": 11,
   "id": "2519036e",
   "metadata": {},
   "outputs": [],
   "source": [
    "import pandas as pd\n",
    "import numpy as np\n",
    "from sklearn.decomposition import PCA\n",
    "from sklearn.manifold import TSNE\n",
    "from sklearn.cluster import KMeans\n",
    "from sklearn.preprocessing import StandardScaler\n",
    "import matplotlib.pyplot as plt\n",
    "import seaborn as sns\n",
    "import umap.umap_ as umap"
   ]
  },
  {
   "cell_type": "code",
   "execution_count": 12,
   "id": "aacce2eb",
   "metadata": {},
   "outputs": [
    {
     "name": "stdout",
     "output_type": "stream",
     "text": [
      "Before loading data.\n",
      "Finished loading data.\n"
     ]
    }
   ],
   "source": [
    "# Load data\n",
    "print('Before loading data.')\n",
    "df = pd.read_csv(\"/home/drosophila-lab/Documents/Genomics Project/snp-data/SNP_CSV.csv\")\n",
    "print('Finished loading data.')"
   ]
  },
  {
   "cell_type": "code",
   "execution_count": 13,
   "id": "023f5426",
   "metadata": {},
   "outputs": [],
   "source": [
    "# Step 1: Add Trajectory labeling\n",
    "# CACO', 'CAO', 'NACO', 'ANCO\n",
    "def assign_trajectory(pop_value):\n",
    "    if pop_value.startswith(\"A\") or pop_value.startswith(\"NA\"):\n",
    "        return \"A trajectory\"\n",
    "    elif pop_value.startswith(\"C\"):\n",
    "        return \"C trajectory\"\n",
    "    else:\n",
    "        return \"Unknown\"\n",
    "\n",
    "df['Trajectory'] = df['Pop'].apply(assign_trajectory)"
   ]
  },
  {
   "cell_type": "code",
   "execution_count": 14,
   "id": "0fe0972c",
   "metadata": {},
   "outputs": [
    {
     "name": "stdout",
     "output_type": "stream",
     "text": [
      "here1\n",
      "Running initial PCA for memory optimization...\n",
      "Starting UMAP...\n"
     ]
    },
    {
     "name": "stderr",
     "output_type": "stream",
     "text": [
      "/home/drosophila-lab/Documents/Genomics Project/snp-data/.venv/lib/python3.12/site-packages/sklearn/utils/deprecation.py:151: FutureWarning: 'force_all_finite' was renamed to 'ensure_all_finite' in 1.6 and will be removed in 1.8.\n",
      "  warnings.warn(\n"
     ]
    },
    {
     "name": "stdout",
     "output_type": "stream",
     "text": [
      "UMAP(n_epochs=200, verbose=True)\n",
      "Wed May 28 10:58:25 2025 Construct fuzzy simplicial set\n",
      "Wed May 28 10:58:25 2025 Finding Nearest Neighbors\n",
      "Wed May 28 10:58:25 2025 Building RP forest with 16 trees\n",
      "Wed May 28 10:58:25 2025 NN descent for 16 iterations\n",
      "\t 1  /  16\n",
      "\t 2  /  16\n",
      "\tStopping threshold met -- exiting after 2 iterations\n",
      "Wed May 28 10:58:25 2025 Finished Nearest Neighbor Search\n",
      "Wed May 28 10:58:25 2025 Construct embedding\n"
     ]
    },
    {
     "name": "stderr",
     "output_type": "stream",
     "text": [
      "Epochs completed:  16%| █▋         33/200 [00:00]"
     ]
    },
    {
     "name": "stdout",
     "output_type": "stream",
     "text": [
      "\tcompleted  0  /  200 epochs\n",
      "\tcompleted  20  /  200 epochs\n"
     ]
    },
    {
     "name": "stderr",
     "output_type": "stream",
     "text": [
      "Epochs completed:  36%| ███▌       71/200 [00:00]"
     ]
    },
    {
     "name": "stdout",
     "output_type": "stream",
     "text": [
      "\tcompleted  40  /  200 epochs\n",
      "\tcompleted  60  /  200 epochs\n"
     ]
    },
    {
     "name": "stderr",
     "output_type": "stream",
     "text": [
      "Epochs completed:  55%| █████▌     110/200 [00:00]"
     ]
    },
    {
     "name": "stdout",
     "output_type": "stream",
     "text": [
      "\tcompleted  80  /  200 epochs\n",
      "\tcompleted  100  /  200 epochs\n"
     ]
    },
    {
     "name": "stderr",
     "output_type": "stream",
     "text": [
      "Epochs completed:  74%| ███████▍   149/200 [00:00]"
     ]
    },
    {
     "name": "stdout",
     "output_type": "stream",
     "text": [
      "\tcompleted  120  /  200 epochs\n",
      "\tcompleted  140  /  200 epochs\n"
     ]
    },
    {
     "name": "stderr",
     "output_type": "stream",
     "text": [
      "Epochs completed:  94%| █████████▎ 187/200 [00:01]"
     ]
    },
    {
     "name": "stdout",
     "output_type": "stream",
     "text": [
      "\tcompleted  160  /  200 epochs\n",
      "\tcompleted  180  /  200 epochs\n"
     ]
    },
    {
     "name": "stderr",
     "output_type": "stream",
     "text": [
      "Epochs completed: 100%| ██████████ 200/200 [00:01]"
     ]
    },
    {
     "name": "stdout",
     "output_type": "stream",
     "text": [
      "Wed May 28 10:58:38 2025 Finished embedding\n",
      "here3\n"
     ]
    },
    {
     "name": "stderr",
     "output_type": "stream",
     "text": [
      "\n"
     ]
    }
   ],
   "source": [
    "# Feature engineering - create trajectory features\n",
    "freq_cols = ['Freq1', 'Freq2', 'Freq3', 'Freq4']\n",
    "X = df[freq_cols].values\n",
    "\n",
    "print(\"here1\")\n",
    "\n",
    "# Standardize data\n",
    "scaler = StandardScaler()\n",
    "X_scaled = scaler.fit_transform(X)\n",
    "\n",
    "# Dimensionality Reduction with PCA (first reduce to 50 components for UMAP)\n",
    "n_components = min(X.shape[0], X.shape[1])\n",
    "print(\"Running initial PCA for memory optimization...\")\n",
    "pca_pre = PCA(n_components=n_components, svd_solver='covariance_eigh')  # Reduces memory footprint\n",
    "X_pca_pre = pca_pre.fit_transform(X_scaled)\n",
    "\n",
    "# UMAP Dimensionality Reduction (optimized for large datasets)\n",
    "print(\"Starting UMAP...\")\n",
    "reducer = umap.UMAP(\n",
    "    n_neighbors=15,  # Reduced from default 15 to 10 for large datasets\n",
    "    min_dist=0.1,    # Increased from 0.1 to 0.3 for speed\n",
    "    metric='euclidean',  # Faster than default cosine\n",
    "    low_memory=True,  # Critical for large datasets\n",
    "    n_epochs=200,     # Reduced from default 500 (trade accuracy for speed)\n",
    "    verbose=True      # Show progress\n",
    ")\n",
    "\n",
    "subset_size = 50000  # Adjust based on your RAM and needs\n",
    "if len(X_scaled) > subset_size:\n",
    "    np.random.seed(42)\n",
    "    sample_idx = np.random.choice(len(X_scaled), subset_size, replace=False)\n",
    "    X_umap = X_scaled[sample_idx]\n",
    "    df_umap = df.iloc[sample_idx]\n",
    "else:\n",
    "    X_umap = X_scaled\n",
    "    df_umap = df\n",
    "\n",
    "X_pca = pca_pre.fit_transform(X_umap)\n",
    "embedding = reducer.fit_transform(X_umap)\n",
    "\n",
    "# embedding = reducer.fit_transform(X_pca_pre)  # Use PCA-reduced data\n",
    "print(\"here3\")"
   ]
  },
  {
   "cell_type": "code",
   "execution_count": 15,
   "id": "c52e1731",
   "metadata": {},
   "outputs": [
    {
     "name": "stdout",
     "output_type": "stream",
     "text": [
      "here4\n"
     ]
    }
   ],
   "source": [
    "# Clustering with K-Means (can be adjusted as needed)\n",
    "kmeans = KMeans(n_clusters=1, random_state=42)  # Assuming single population (CACO)\n",
    "df['Cluster'] = kmeans.fit_predict(X_scaled)\n",
    "print(\"here4\")"
   ]
  },
  {
   "cell_type": "code",
   "execution_count": 16,
   "id": "1a126f88",
   "metadata": {},
   "outputs": [
    {
     "name": "stdout",
     "output_type": "stream",
     "text": [
      "here5\n"
     ]
    },
    {
     "data": {
      "image/png": "[encoded data removed]",
      "text/plain": [
       "<Figure size 1800x600 with 3 Axes>"
      ]
     },
     "metadata": {},
     "output_type": "display_data"
    }
   ],
   "source": [
    "fig, axes = plt.subplots(1, 3, figsize=(18, 6))\n",
    "\n",
    "print(\"here5\")"
   ]
  },
  {
   "cell_type": "code",
   "execution_count": 25,
   "id": "fb2382b2",
   "metadata": {},
   "outputs": [
    {
     "name": "stdout",
     "output_type": "stream",
     "text": [
      "PCA range X: -6.595 to 1.801\n",
      "PCA range Y: -3.740 to 2.587\n"
     ]
    },
    {
     "data": {
      "text/plain": [
       "(-3.840208758707102, 2.687463889795577)"
      ]
     },
     "execution_count": 25,
     "metadata": {},
     "output_type": "execute_result"
    }
   ],
   "source": [
    "# PCA Plot colored by Trajectory\n",
    "# X_pca = pca_pre.fit_transform(X_umap)\n",
    "sns.scatterplot(x=X_pca[:, 0], y=X_pca[:, 1], hue=df_umap['Trajectory'], ax=axes[0])\n",
    "axes[0].set_title('PCA Projection by Trajectory')\n",
    "\n",
    "print(f\"PCA range X: {X_pca[:, 0].min():.3f} to {X_pca[:, 0].max():.3f}\")\n",
    "print(f\"PCA range Y: {X_pca[:, 1].min():.3f} to {X_pca[:, 1].max():.3f}\")\n",
    "\n",
    "axes[0].set_xlim(X_pca[:, 0].min()-0.1, X_pca[:, 0].max()+0.1)\n",
    "axes[0].set_ylim(X_pca[:, 1].min()-0.1, X_pca[:, 1].max()+0.1)\n",
    "\n",
    "# axes[0].plot()"
   ]
  },
  {
   "cell_type": "code",
   "execution_count": 26,
   "id": "951532af",
   "metadata": {},
   "outputs": [
    {
     "name": "stdout",
     "output_type": "stream",
     "text": [
      "UMAP range X: -6.864 to 24.978\n",
      "UMAP range Y: -10.286 to 23.839\n"
     ]
    },
    {
     "data": {
      "text/plain": [
       "Text(0.5, 1.0, 'UMAP Projection by Trajectory')"
      ]
     },
     "execution_count": 26,
     "metadata": {},
     "output_type": "execute_result"
    }
   ],
   "source": [
    "# UMAP Plot colored by Trajectory\n",
    "trajectory_colors = {\"A trajectory\": \"blue\", \"C trajectory\": \"red\", \"Unknown\": \"gray\"}\n",
    "\n",
    "print(f\"UMAP range X: {embedding[:, 0].min():.3f} to {embedding[:, 0].max():.3f}\")\n",
    "print(f\"UMAP range Y: {embedding[:, 1].min():.3f} to {embedding[:, 1].max():.3f}\")\n",
    "\n",
    "axes[1].scatter(\n",
    "    embedding[:, 0],\n",
    "    embedding[:, 1],\n",
    "    c=df_umap['Trajectory'].map(trajectory_colors),\n",
    "    label=df_umap['Trajectory']\n",
    ")\n",
    "\n",
    "axes[0].set_xlim(embedding[:, 0].min()-0.1, embedding[:, 0].max()+0.1)\n",
    "axes[0].set_ylim(embedding[:, 1].min()-0.1, embedding[:, 1].max()+0.1)\n",
    "axes[1].set_title('UMAP Projection by Trajectory')"
   ]
  },
  {
   "cell_type": "code",
   "execution_count": 28,
   "id": "b3b85300",
   "metadata": {},
   "outputs": [
    {
     "name": "stderr",
     "output_type": "stream",
     "text": [
      "/tmp/ipykernel_640676/2894825871.py:9: UserWarning: Tight layout not applied. The bottom and top margins cannot be made large enough to accommodate all Axes decorations.\n",
      "  fig.tight_layout()\n"
     ]
    },
    {
     "name": "stdout",
     "output_type": "stream",
     "text": [
      "here6\n"
     ]
    }
   ],
   "source": [
    "# Frequency Trajectory Plot (VISUAL)\n",
    "for i, row in df_umap.iterrows():\n",
    "    axes[2].plot(freq_cols, row[freq_cols], label=f\"Sample {i+1} ({row['Trajectory']})\",\n",
    "                 color=trajectory_colors.get(row['Trajectory'], \"gray\"), alpha=0.5)\n",
    "axes[2].set_title('Frequency Trajectories')\n",
    "axes[2].set_ylabel('Frequency')\n",
    "axes[2].legend(fontsize='small', loc='upper left', bbox_to_anchor=(1, 1))\n",
    "\n",
    "fig.tight_layout()\n",
    "fig.savefig(\"clustervis2.png\")\n",
    "print(\"here6\")"
   ]
  },
  {
   "cell_type": "code",
   "execution_count": 20,
   "id": "27ed5b3f",
   "metadata": {},
   "outputs": [
    {
     "name": "stdout",
     "output_type": "stream",
     "text": [
      "Predicted cluster: Cluster 0\n"
     ]
    }
   ],
   "source": [
    "# Prediction function for new data (for inference)\n",
    "def predict_population(new_frequencies):\n",
    "    new_data = scaler.transform([new_frequencies])\n",
    "    cluster = kmeans.predict(new_data)[0]\n",
    "    return f\"Cluster {cluster}\"\n",
    "\n",
    "# Example usage\n",
    "new_sample = [0.85, 0.90, 0.91, 0.92]\n",
    "print(f\"Predicted cluster: {predict_population(new_sample)}\")"
   ]
  },
  {
   "cell_type": "code",
   "execution_count": null,
   "id": "a3aac516",
   "metadata": {},
   "outputs": [],
   "source": []
  }
 ],
 "metadata": {
  "kernelspec": {
   "display_name": ".venv",
   "language": "python",
   "name": "python3"
  },
  "language_info": {
   "codemirror_mode": {
    "name": "ipython",
    "version": 3
   },
   "file_extension": ".py",
   "mimetype": "text/x-python",
   "name": "python",
   "nbconvert_exporter": "python",
   "pygments_lexer": "ipython3",
   "version": "3.12.3"
  }
 },
 "nbformat": 4,
 "nbformat_minor": 5
}
